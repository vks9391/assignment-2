{
  "nbformat": 4,
  "nbformat_minor": 0,
  "metadata": {
    "colab": {
      "provenance": []
    },
    "kernelspec": {
      "name": "python3",
      "display_name": "Python 3"
    },
    "language_info": {
      "name": "python"
    }
  },
  "cells": [
    {
      "cell_type": "code",
      "execution_count": null,
      "metadata": {
        "id": "589fDpqOvfS3"
      },
      "outputs": [],
      "source": []
    },
    {
      "cell_type": "code",
      "source": [
        "# 1 practical questions\n",
        "str1=(\"my name is vivek\")\n",
        "print(str1)\n"
      ],
      "metadata": {
        "colab": {
          "base_uri": "https://localhost:8080/"
        },
        "id": "-BDqibhhwHtK",
        "outputId": "df1dac2c-586c-42aa-9256-c7c702c45483"
      },
      "execution_count": null,
      "outputs": [
        {
          "output_type": "stream",
          "name": "stdout",
          "text": [
            "my name is vivek\n"
          ]
        }
      ]
    },
    {
      "cell_type": "code",
      "source": [
        "# 2 practical questions\n",
        "str2=(\"hello world\")\n",
        "print(len(str2))"
      ],
      "metadata": {
        "colab": {
          "base_uri": "https://localhost:8080/"
        },
        "id": "QrGry1hFwi6i",
        "outputId": "2de12539-c039-4f52-aedb-e5d2a592fbf2"
      },
      "execution_count": null,
      "outputs": [
        {
          "output_type": "stream",
          "name": "stdout",
          "text": [
            "11\n"
          ]
        }
      ]
    },
    {
      "cell_type": "code",
      "source": [
        "# 3 practical questions\n",
        "str3=(\"hello world\")\n",
        "print(str3[:3])"
      ],
      "metadata": {
        "colab": {
          "base_uri": "https://localhost:8080/"
        },
        "id": "RLw4kN2exYcj",
        "outputId": "88dc05b3-f2d0-4bd8-afc4-d12f491a90f3"
      },
      "execution_count": null,
      "outputs": [
        {
          "output_type": "stream",
          "name": "stdout",
          "text": [
            "hel\n"
          ]
        }
      ]
    },
    {
      "cell_type": "code",
      "source": [
        "# 3 practical questions\n",
        "str4=(\"hello world\")\n",
        "print(str4[3:])\n"
      ],
      "metadata": {
        "colab": {
          "base_uri": "https://localhost:8080/"
        },
        "id": "RnIiRg1MJ1C7",
        "outputId": "55be2379-73b5-4251-9ac8-2f55aae1afb0"
      },
      "execution_count": null,
      "outputs": [
        {
          "output_type": "stream",
          "name": "stdout",
          "text": [
            "lo world\n"
          ]
        }
      ]
    },
    {
      "cell_type": "code",
      "source": [
        "# 4 practical questions\n",
        "str5=(\"hello world\")\n",
        "print(str5.upper())\n"
      ],
      "metadata": {
        "colab": {
          "base_uri": "https://localhost:8080/"
        },
        "id": "KntVony0KN4f",
        "outputId": "608808c6-816a-4d32-83f3-bb314cf6f8a4"
      },
      "execution_count": null,
      "outputs": [
        {
          "output_type": "stream",
          "name": "stdout",
          "text": [
            "HELLO WORLD\n"
          ]
        }
      ]
    },
    {
      "cell_type": "code",
      "source": [
        "# 5 practical questions\n",
        "str6 = \"i like apple\"\n",
        "str7= print(str6.replace(\"apple\",\"orange\"))\n",
        "print(str7)"
      ],
      "metadata": {
        "colab": {
          "base_uri": "https://localhost:8080/"
        },
        "id": "lumuQg9xNOLS",
        "outputId": "58b2f6da-44b1-4195-e4b0-fc3c07eec048"
      },
      "execution_count": null,
      "outputs": [
        {
          "output_type": "stream",
          "name": "stdout",
          "text": [
            "i like orange\n",
            "None\n"
          ]
        }
      ]
    },
    {
      "cell_type": "code",
      "source": [
        "# 6 practical questions\n",
        "list1=[\"1\",\"2\",\"3\",\"4\"]\n",
        "print(type(list1))\n",
        "print(list1)"
      ],
      "metadata": {
        "colab": {
          "base_uri": "https://localhost:8080/"
        },
        "id": "xoe9XAWXPdC8",
        "outputId": "e8c7204c-fb6c-4432-d8c4-814e9075d39c"
      },
      "execution_count": null,
      "outputs": [
        {
          "output_type": "stream",
          "name": "stdout",
          "text": [
            "<class 'list'>\n",
            "['1', '2', '3', '4']\n"
          ]
        }
      ]
    },
    {
      "cell_type": "code",
      "source": [
        "# 7 practical questions\n",
        "list1.append(\"10\")\n",
        "print(list1)"
      ],
      "metadata": {
        "colab": {
          "base_uri": "https://localhost:8080/"
        },
        "id": "WgkMSuw7VtFR",
        "outputId": "c425310b-983d-49e7-fc9e-5db48df769f1"
      },
      "execution_count": null,
      "outputs": [
        {
          "output_type": "stream",
          "name": "stdout",
          "text": [
            "['1', '2', '3', '4', '10']\n"
          ]
        }
      ]
    },
    {
      "cell_type": "code",
      "source": [
        "# 8 practical questions\n",
        "list1.remove(\"3\")\n",
        "print(list1)"
      ],
      "metadata": {
        "colab": {
          "base_uri": "https://localhost:8080/"
        },
        "id": "pZHpFF-oWKwb",
        "outputId": "f5fc99ca-fb42-4bef-b8ab-8595ee2c1a52"
      },
      "execution_count": null,
      "outputs": [
        {
          "output_type": "stream",
          "name": "stdout",
          "text": [
            "['1', '2', '4', '10']\n"
          ]
        }
      ]
    },
    {
      "cell_type": "code",
      "source": [
        "# 9 practical questions\n",
        "list3=[\"a\",\"b\",\"c\",\"d\"]\n",
        "print(list3[2])\n"
      ],
      "metadata": {
        "colab": {
          "base_uri": "https://localhost:8080/"
        },
        "id": "axTlN16cWcKr",
        "outputId": "979dcf85-65d2-42d5-c564-ec547166eda6"
      },
      "execution_count": null,
      "outputs": [
        {
          "output_type": "stream",
          "name": "stdout",
          "text": [
            "c\n"
          ]
        }
      ]
    },
    {
      "cell_type": "code",
      "source": [
        "\n",
        "# 10 practical questions\n",
        "list4=[\"a\",\"b\",\"c\",\"d\"]\n",
        "print(list4[::-1])"
      ],
      "metadata": {
        "colab": {
          "base_uri": "https://localhost:8080/"
        },
        "id": "BINdskkYXfh_",
        "outputId": "ec849b6b-7e3b-4884-d310-3f6ce26225a9"
      },
      "execution_count": null,
      "outputs": [
        {
          "output_type": "stream",
          "name": "stdout",
          "text": [
            "['d', 'c', 'b', 'a']\n"
          ]
        }
      ]
    },
    {
      "cell_type": "code",
      "source": [
        "# 11 practical questions\n",
        "tuple1=(\"100\",\"200\",\"300\",)\n",
        "print(tuple1)"
      ],
      "metadata": {
        "colab": {
          "base_uri": "https://localhost:8080/"
        },
        "id": "wQrB1sUEYhtg",
        "outputId": "b9018486-feed-4f4a-8baa-aefb091455ac"
      },
      "execution_count": null,
      "outputs": [
        {
          "output_type": "stream",
          "name": "stdout",
          "text": [
            "('100', '200', '300')\n"
          ]
        }
      ]
    },
    {
      "cell_type": "code",
      "source": [
        "# 12 practical questions\n",
        "tuple1=(\"red\",\"green\",\"blue\",\"yellow\")\n",
        "print(tuple1[2::])"
      ],
      "metadata": {
        "colab": {
          "base_uri": "https://localhost:8080/"
        },
        "id": "mkVY9iWXZDii",
        "outputId": "0f6e41cd-7901-46ab-9212-897a52946779"
      },
      "execution_count": null,
      "outputs": [
        {
          "output_type": "stream",
          "name": "stdout",
          "text": [
            "('blue', 'yellow')\n"
          ]
        }
      ]
    },
    {
      "cell_type": "code",
      "source": [],
      "metadata": {
        "id": "QFudwxxTZzZr"
      },
      "execution_count": null,
      "outputs": []
    },
    {
      "cell_type": "code",
      "source": [
        "# 13 practical questions\n",
        "tuple1 = (2,5,10,15)\n",
        "value= min (tuple1)\n",
        "print(value)\n"
      ],
      "metadata": {
        "colab": {
          "base_uri": "https://localhost:8080/"
        },
        "outputId": "695a3b7f-4ae4-4f47-f48c-562b33c1c95e",
        "id": "Rhuw_LHwZ8P9"
      },
      "execution_count": null,
      "outputs": [
        {
          "output_type": "stream",
          "name": "stdout",
          "text": [
            "2\n"
          ]
        }
      ]
    },
    {
      "cell_type": "code",
      "source": [
        "# 14 practical questions\n",
        "my_tuple = ('cat','dog','rabbit')\n",
        "index = my_tuple.index('cat')\n",
        "print(index)\n",
        "print(my_tuple)"
      ],
      "metadata": {
        "colab": {
          "base_uri": "https://localhost:8080/"
        },
        "id": "U8lwT9xqaTrj",
        "outputId": "b2dd7281-aaa8-4ef0-a159-b46e210516e8"
      },
      "execution_count": 3,
      "outputs": [
        {
          "output_type": "stream",
          "name": "stdout",
          "text": [
            "0\n",
            "('cat', 'dog', 'rabbit')\n"
          ]
        }
      ]
    },
    {
      "cell_type": "code",
      "source": [
        "# 15 practical questions\n",
        "fruit_tuple=(\"apple\",\"kiwi\",\"cherry\")\n",
        "print(fruit_tuple)\n",
        "if \"kiwi\" in fruit_tuple:\n",
        "    print(\"yes\")\n",
        "else:\n",
        "    print(\"no\")"
      ],
      "metadata": {
        "colab": {
          "base_uri": "https://localhost:8080/"
        },
        "id": "aHOeJPhxbF4C",
        "outputId": "7939aaa0-0d6a-4fef-ecb7-e798c6849772"
      },
      "execution_count": 5,
      "outputs": [
        {
          "output_type": "stream",
          "name": "stdout",
          "text": [
            "('apple', 'kiwi', 'cherry')\n",
            "yes\n"
          ]
        }
      ]
    },
    {
      "cell_type": "code",
      "source": [
        "# 16 practical questions\n",
        "set1={\"a\",\"b\",\"c\"}\n",
        "print(set1)\n"
      ],
      "metadata": {
        "colab": {
          "base_uri": "https://localhost:8080/"
        },
        "id": "Lrv-zoztdQX3",
        "outputId": "47dc9746-33ae-4771-8483-5aecf062e7c0"
      },
      "execution_count": 7,
      "outputs": [
        {
          "output_type": "stream",
          "name": "stdout",
          "text": [
            "{'a', 'c', 'b'}\n"
          ]
        }
      ]
    },
    {
      "cell_type": "code",
      "source": [
        "# 17 practical questions\n",
        "set2={\"1\",\"2\",\"3\",\"4\",\"5\"}\n",
        "print(set2)\n",
        "set2.clear()\n",
        "print(set2)"
      ],
      "metadata": {
        "colab": {
          "base_uri": "https://localhost:8080/"
        },
        "id": "l7sEQc0xftaY",
        "outputId": "9f160e17-992d-43c6-a759-a7acbe66a52a"
      },
      "execution_count": 11,
      "outputs": [
        {
          "output_type": "stream",
          "name": "stdout",
          "text": [
            "{'3', '5', '2', '1', '4'}\n",
            "set()\n"
          ]
        }
      ]
    },
    {
      "cell_type": "code",
      "source": [
        "# 18 practical questions\n",
        "set2={\"1\",\"2\",\"3\",\"4\",\"5\"}\n",
        "print(set2)\n",
        "set2.remove(\"4\")\n",
        "print(set2)"
      ],
      "metadata": {
        "colab": {
          "base_uri": "https://localhost:8080/"
        },
        "id": "MEoiePiogewB",
        "outputId": "bd47ffb6-ce95-4108-c824-3e75aa720b14"
      },
      "execution_count": 12,
      "outputs": [
        {
          "output_type": "stream",
          "name": "stdout",
          "text": [
            "{'3', '5', '2', '1', '4'}\n",
            "{'3', '5', '2', '1'}\n"
          ]
        }
      ]
    },
    {
      "cell_type": "code",
      "source": [
        "# 19 practical questions\n",
        "set3={\"1\",\"2\",\"3\"}\n",
        "set4={\"4\",\"5\",\"6\"}\n",
        "print(set3,set4)\n",
        "set3.union(set4)"
      ],
      "metadata": {
        "colab": {
          "base_uri": "https://localhost:8080/"
        },
        "id": "gGvIdHH3gun9",
        "outputId": "ee69b29e-264b-4361-e0ef-f8d2cc6909b1"
      },
      "execution_count": 14,
      "outputs": [
        {
          "output_type": "stream",
          "name": "stdout",
          "text": [
            "{'3', '1', '2'} {'5', '6', '4'}\n"
          ]
        },
        {
          "output_type": "execute_result",
          "data": {
            "text/plain": [
              "{'1', '2', '3', '4', '5', '6'}"
            ]
          },
          "metadata": {},
          "execution_count": 14
        }
      ]
    },
    {
      "cell_type": "code",
      "source": [
        "# 20 practical questions\n",
        "set3={\"1\",\"2\",\"3\",\"4\"}\n",
        "set4={\"3\",\"4\",\"5\"}\n",
        "print(set3,set4)\n",
        "set3.intersection(set4)\n"
      ],
      "metadata": {
        "colab": {
          "base_uri": "https://localhost:8080/"
        },
        "id": "uTUxIs2EjICo",
        "outputId": "8792163e-a2d1-495e-dfbb-7313bba71bed"
      },
      "execution_count": 17,
      "outputs": [
        {
          "output_type": "stream",
          "name": "stdout",
          "text": [
            "{'3', '1', '4', '2'} {'3', '5', '4'}\n"
          ]
        },
        {
          "output_type": "execute_result",
          "data": {
            "text/plain": [
              "{'3', '4'}"
            ]
          },
          "metadata": {},
          "execution_count": 17
        }
      ]
    },
    {
      "cell_type": "code",
      "source": [
        "# 21 practical questions\n",
        "dict1={\"name\",\"age\",\"country\"}\n",
        "print(dict1)"
      ],
      "metadata": {
        "colab": {
          "base_uri": "https://localhost:8080/"
        },
        "id": "01ZKUZKfjvqy",
        "outputId": "885a9f88-aecf-48b5-fa81-00839a88da88"
      },
      "execution_count": 25,
      "outputs": [
        {
          "output_type": "stream",
          "name": "stdout",
          "text": [
            "{'age', 'country', 'name'}\n"
          ]
        }
      ]
    },
    {
      "cell_type": "code",
      "source": [
        "# 22 practical questions\n",
        "dict2={\"name\":\"john\",\"age\":25,\"country\":\"usa\"}\n",
        "print(dict2)\n",
        "print(dict2[\"name\"])"
      ],
      "metadata": {
        "colab": {
          "base_uri": "https://localhost:8080/"
        },
        "id": "DJvuJALSlnNz",
        "outputId": "6e018b3f-7ac3-4be3-d8fd-e768de8050b3"
      },
      "execution_count": 26,
      "outputs": [
        {
          "output_type": "stream",
          "name": "stdout",
          "text": [
            "{'name': 'john', 'age': 25, 'country': 'usa'}\n",
            "john\n"
          ]
        }
      ]
    },
    {
      "cell_type": "code",
      "source": [
        "# 23 practical questions\n",
        "dict3={\"name\":\"john\",\"age\":25,\"country\":\"usa\"}\n",
        "print(dict3)\n",
        "print(dict3[\"name\"])"
      ],
      "metadata": {
        "colab": {
          "base_uri": "https://localhost:8080/"
        },
        "id": "jP_GLq2HmOvN",
        "outputId": "b9ca2b8d-e786-41cf-c331-074fe28f6720"
      },
      "execution_count": 27,
      "outputs": [
        {
          "output_type": "stream",
          "name": "stdout",
          "text": [
            "{'name': 'john', 'age': 25, 'country': 'usa'}\n",
            "john\n"
          ]
        }
      ]
    },
    {
      "cell_type": "code",
      "source": [
        "# 24 practical questions\n",
        "dict4={'name': 'Bob', 'age': 22, 'city': 'New York'}\n",
        "print(dict4)\n",
        "dict4.pop(\"age\")\n",
        "print(dict4)"
      ],
      "metadata": {
        "colab": {
          "base_uri": "https://localhost:8080/"
        },
        "id": "PRFEen2vnikx",
        "outputId": "8d483f6b-f803-4ded-eef0-6a7002b0b061"
      },
      "execution_count": 28,
      "outputs": [
        {
          "output_type": "stream",
          "name": "stdout",
          "text": [
            "{'name': 'Bob', 'age': 22, 'city': 'New York'}\n",
            "{'name': 'Bob', 'city': 'New York'}\n"
          ]
        }
      ]
    },
    {
      "cell_type": "code",
      "source": [
        "# 25 practical questions\n",
        "dict5={'name': 'Bob', 'age': 22, 'city': 'New York'}\n",
        "print(dict5)\n",
        "dict5.pop(\"age\")\n",
        "print(dict5)"
      ],
      "metadata": {
        "colab": {
          "base_uri": "https://localhost:8080/"
        },
        "id": "7s9fmCntoj9Q",
        "outputId": "c650651b-43ae-4a7d-9760-f999030c8adc"
      },
      "execution_count": 29,
      "outputs": [
        {
          "output_type": "stream",
          "name": "stdout",
          "text": [
            "{'name': 'Bob', 'age': 22, 'city': 'New York'}\n",
            "{'name': 'Bob', 'city': 'New York'}\n"
          ]
        }
      ]
    },
    {
      "cell_type": "code",
      "source": [
        "# 26 practical questions\n",
        "dict6={'name': 'Alice', 'city': 'Paris'}\n",
        "print(dict6)\n",
        "if \"city\" in dict6:\n",
        "    print(\"yes\")\n",
        "else:\n",
        "    print(\"no\")"
      ],
      "metadata": {
        "colab": {
          "base_uri": "https://localhost:8080/"
        },
        "id": "FdJXXxJxpDHM",
        "outputId": "146b1054-27c7-4102-c16a-06732b7ec08a"
      },
      "execution_count": 30,
      "outputs": [
        {
          "output_type": "stream",
          "name": "stdout",
          "text": [
            "{'name': 'Alice', 'city': 'Paris'}\n",
            "yes\n"
          ]
        }
      ]
    },
    {
      "cell_type": "code",
      "source": [
        "# 26 practical questions\n",
        "list=[\"red\",\"green\",\"blue\"]\n",
        "\n",
        "set={\"red\",\"green\",\"blue\"}\n",
        "\n",
        "tuple=(\"red\",\"green\",\"blue\")\n",
        "\n",
        "dict6={'name': 'Alice', 'city': 'Paris'}\n",
        "print(list,set,tuple,dict6)\n"
      ],
      "metadata": {
        "colab": {
          "base_uri": "https://localhost:8080/"
        },
        "id": "lwlFSTUZqFCN",
        "outputId": "68b1879a-f3ca-47ee-ac8f-ea3076250cfb"
      },
      "execution_count": 31,
      "outputs": [
        {
          "output_type": "stream",
          "name": "stdout",
          "text": [
            "['red', 'green', 'blue'] {'blue', 'green', 'red'} ('red', 'green', 'blue') {'name': 'Alice', 'city': 'Paris'}\n"
          ]
        }
      ]
    },
    {
      "cell_type": "code",
      "source": [
        "# 27 practical questions\n",
        "import random\n",
        "list_random = [random.randint(1,100) for _ in range(5)]\n",
        "list_random.sort()\n",
        "print(list_random)\n"
      ],
      "metadata": {
        "colab": {
          "base_uri": "https://localhost:8080/"
        },
        "id": "domoGgRKqo5l",
        "outputId": "8fedbfae-0728-45cd-cd6b-bf6585655678"
      },
      "execution_count": 39,
      "outputs": [
        {
          "output_type": "stream",
          "name": "stdout",
          "text": [
            "[39, 54, 60, 74, 92]\n"
          ]
        }
      ]
    },
    {
      "cell_type": "code",
      "source": [
        "# 28 practical questions\n",
        "my_list=[\"banana\",\"apple\",\"orange\",\"kiwi\",\"papaya\"]\n",
        "print(my_list[3])"
      ],
      "metadata": {
        "colab": {
          "base_uri": "https://localhost:8080/"
        },
        "id": "UJATtr1QrACZ",
        "outputId": "a82a20f3-bd8e-4f51-c5d7-5291b9ef58f2"
      },
      "execution_count": 42,
      "outputs": [
        {
          "output_type": "stream",
          "name": "stdout",
          "text": [
            "kiwi\n"
          ]
        }
      ]
    },
    {
      "cell_type": "code",
      "source": [
        "# 29 practical questions\n",
        "dict7 = {'a':1, 'b':2}\n",
        "\n",
        "dict8 = {'c':3,'d':4}\n",
        "\n",
        "dict7.update(dict8)\n",
        "\n",
        "print(dict7)\n"
      ],
      "metadata": {
        "colab": {
          "base_uri": "https://localhost:8080/"
        },
        "id": "byunCvUKrCgP",
        "outputId": "220d824a-3cb9-4167-942c-c1f75f29adb8"
      },
      "execution_count": 2,
      "outputs": [
        {
          "output_type": "stream",
          "name": "stdout",
          "text": [
            "{'a': 1, 'b': 2, 'c': 3, 'd': 4}\n"
          ]
        }
      ]
    },
    {
      "cell_type": "code",
      "source": [
        "# 30 practical questions\n",
        "list5 = [1,2,3,4,5]\n",
        "set5=set(list5)\n",
        "print(type(set5))\n",
        "print(set5)\n"
      ],
      "metadata": {
        "colab": {
          "base_uri": "https://localhost:8080/"
        },
        "id": "gfUjkIK3rF_-",
        "outputId": "7e727e90-91f6-4f06-c115-82c68ac7c2d5"
      },
      "execution_count": 9,
      "outputs": [
        {
          "output_type": "stream",
          "name": "stdout",
          "text": [
            "<class 'set'>\n",
            "{1, 2, 3, 4, 5}\n"
          ]
        }
      ]
    }
  ]
}